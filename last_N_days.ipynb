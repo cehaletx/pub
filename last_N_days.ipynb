{
  "nbformat": 4,
  "nbformat_minor": 0,
  "metadata": {
    "colab": {
      "provenance": [],
      "authorship_tag": "ABX9TyM5PdetkPKsbP9pmxGXkCwI",
      "include_colab_link": true
    },
    "kernelspec": {
      "name": "python3",
      "display_name": "Python 3"
    },
    "language_info": {
      "name": "python"
    }
  },
  "cells": [
    {
      "cell_type": "markdown",
      "metadata": {
        "id": "view-in-github",
        "colab_type": "text"
      },
      "source": [
        "<a href=\"https://colab.research.google.com/github/cehaletx/pub/blob/main/last_N_days.ipynb\" target=\"_parent\"><img src=\"https://colab.research.google.com/assets/colab-badge.svg\" alt=\"Open In Colab\"/></a>"
      ]
    },
    {
      "cell_type": "markdown",
      "source": [
        "# This is a notebook to work through ingest rates for an elastic cluster.\n",
        "\n",
        "It will connect to the cloud id using the user and pass which it will prompt for then calculate the average doc size and the number of docs for the last\n",
        "N days.\n",
        "\n",
        "First step let's import the right libraries."
      ],
      "metadata": {
        "id": "wg6fa_h_4BCE"
      }
    },
    {
      "cell_type": "code",
      "source": [
        "!pip install -q elasticsearch\n",
        "import sys\n",
        "from datetime import datetime\n",
        "from datetime import timedelta\n",
        "import re\n",
        "import time\n",
        "import json\n",
        "from elasticsearch import Elasticsearch\n",
        "import warnings\n",
        "warnings.filterwarnings(\"ignore\")\n",
        "import matplotlib.pyplot as plt"
      ],
      "metadata": {
        "id": "vcBXnloO4GzX",
        "colab": {
          "base_uri": "https://localhost:8080/"
        },
        "outputId": "d76c88e2-2d93-4b7a-8a04-c468452a9d7c"
      },
      "execution_count": null,
      "outputs": []
        }
      ]
    },
    {
      "cell_type": "markdown",
      "source": [
        "# Let's define some variables, the number of days and the index patterns."
      ],
      "metadata": {
        "id": "bhHeyipH4tCW"
      }
    },
    {
      "cell_type": "code",
      "source": [
        "#--------------------------------------------------------------------------------\n",
        "# not doing any checking but let's get the command line arg. expecting an\n",
        "# integer which is number of days of ingest to calculate\n",
        "#--------------------------------------------------------------------------------\n",
        "#last_n_days = int( sys.argv[1] )\n",
        "last_n_days = int (7)\n",
        "index_pattern=\"*\""
      ],
      "metadata": {
        "id": "v4McxwS646EY"
      },
      "execution_count": null,
      "outputs": []
    },
    {
      "cell_type": "markdown",
      "source": [
        "# Let's collect the elastic connection credentials\n"
      ],
      "metadata": {
        "id": "jbVw-M6X5RpU"
      }
    },
    {
      "cell_type": "code",
      "source": [
        "#ELASTIC_CLOUD_ID=input(\"input your cloud id \")\n",
        "ELASTIC_CLOUD_ID=\"\"\n",
        "default = \"elastic\"\n",
        "ELASTIC_USERNAME = \"elastic\"\n",
        "#ELASTIC_USERNAME=input(\"input your elastic user [%s] \"%default + chr(8)*4)\n",
        "#if not ELASTIC_USERNAME:\n",
        "#   ELASTIC_USERNAME = default\n",
        "#ELASTIC_PASSWORD=input(\"input your elastic password \")\n",
        "ELASTIC_PASSWORD=\"\""
      ],
      "metadata": {
        "id": "gVs6ZWRT94zI"
      },
      "execution_count": null,
      "outputs": []
    },
    {
      "cell_type": "code",
      "source": [
        "es = Elasticsearch(\n",
        "    cloud_id=ELASTIC_CLOUD_ID,\n",
        "    timeout=60,\n",
        "    basic_auth=(ELASTIC_USERNAME, ELASTIC_PASSWORD)\n",
        ")"
      ],
      "metadata": {
        "id": "m6Q-ZhO05Vfm"
      },
      "execution_count": null,
      "outputs": []
    },
    {
      "cell_type": "markdown",
      "source": [
        "# Setup the data class, inititalize some arrays, and define a function to calculate document size"
      ],
      "metadata": {
        "id": "vQ7bhT-n5ayF"
      }
    },
    {
      "cell_type": "code",
      "source": [
        "class doubleQuoteDict(dict):\n",
        "  def __str__(self):\n",
        "    return json.dumps(self)\n",
        "  def __repr__(self):\n",
        "    return json.dumps(self)\n",
        "\n",
        "# Initialize lists to store data\n",
        "periods = []\n",
        "document_counts = []\n",
        "\n",
        "# Function to query Elasticsearch and get document count for a given time range\n",
        "def get_document_count(index_pattern, start_time, end_time):\n",
        "    range_query = {\n",
        "      \"range\": {\n",
        "        \"@timestamp\": {\n",
        "          \"gte\": start_time,\n",
        "          \"lt\": end_time\n",
        "        }\n",
        "      }\n",
        "    }\n",
        "\n",
        "    result = es.search(index=index_pattern, query=doubleQuoteDict(range_query), params={\"track_total_hits\":\"true\"} )\n",
        "    return result['hits']['total']['value']"
      ],
      "metadata": {
        "id": "HB-dXxVD5dv8"
      },
      "execution_count": null,
      "outputs": []
    },
    {
      "cell_type": "markdown",
      "source": [
        "# Now let's get the average doc size."
      ],
      "metadata": {
        "id": "wjx_C44_5k8Z"
      }
    },
    {
      "cell_type": "code",
      "source": [
        "# before looking at the previous N days, let's inspect cat indices index_pattern for a doc count, and avg size\n",
        "#\n",
        "resp = es.cat.indices( index=index_pattern, format=\"json\",bytes=\"b\" )\n",
        "\n",
        "temp_total_docs = 0\n",
        "temp_total_pri = 0\n",
        "new_avg_doc = 0\n",
        "for each_index in resp:\n",
        "  if( int( each_index[\"pri.store.size\"] ) != 0 ):\n",
        "    temp_total_docs+= int( each_index[\"docs.count\"] )\n",
        "    temp_total_pri+= int( each_index[\"pri.store.size\"] )\n",
        "new_avg_doc = temp_total_pri / temp_total_docs\n",
        "print( \"total docs = \", temp_total_docs)\n",
        "print( \"total pri size = \", temp_total_pri)\n",
        "print ( \"avg doc size = \", new_avg_doc )"
      ],
      "metadata": {
        "colab": {
          "base_uri": "https://localhost:8080/"
        },
        "id": "GCaRoWfL5nC3",
        "outputId": "8d007f3f-6174-447b-f33c-c4c918de1561"
      },
      "execution_count": null,
      "outputs": []
    },
    {
      "cell_type": "markdown",
      "source": [
        "Now let's go through and look at the number of docs per day"
      ],
      "metadata": {
        "id": "M4QgjAFi5tlj"
      }
    },
    {
      "cell_type": "code",
      "source": [
        "daily=[]\n",
        "periods=[]\n",
        "while( last_n_days >= 1 ):\n",
        "  date_n1_days_ago = datetime.now() - timedelta( days=(last_n_days+1) )\n",
        "  date_n_days_ago = datetime.now() - timedelta( days=last_n_days )\n",
        "  print ( \"start = \" + str(date_n1_days_ago) )\n",
        "  print ( \"end = \" + str(date_n_days_ago) )\n",
        "  print ( \"index pattern - \" + index_pattern )\n",
        "  doc_count = get_document_count(index_pattern, date_n1_days_ago, date_n_days_ago)\n",
        "  print(\"%d docs \" % doc_count)\n",
        "  gigs = (doc_count * new_avg_doc) / 1024 / 1024 / 1024\n",
        "  daily.append( gigs )\n",
        "  periods.append( date_n_days_ago.strftime(\"%m-%d\") )\n",
        "  mb = (doc_count * new_avg_doc) / 1024 / 1024\n",
        "  print(\"in gigs = \" + str(gigs) + \", or in mb = \" + str(mb) + \", or in bytes = \"+ str(doc_count*new_avg_doc)  )\n",
        "  last_n_days = last_n_days - 1\n",
        "\n",
        "plt.bar( periods, daily, label=\"Daily Total\", color='b')\n",
        "plt.xlabel(\"Day\")\n",
        "plt.ylabel(\"Volume\")\n",
        "plt.title(\"Ingest Volume Per day in GB\")\n",
        "plt.legend()\n",
        "plt.show()"
      ],
      "metadata": {
        "colab": {
          "base_uri": "https://localhost:8080/",
          "height": 1000
        },
        "id": "f78ivhxM5xjc",
        "outputId": "57e221cd-f3f6-4205-f535-2d797cad67dc"
      },
      "execution_count": null,
      "outputs": []
        },
        {
          "output_type": "display_data",
          "data": {
            "text/plain": [
              "<Figure size 640x480 with 1 Axes>"
            ],
            "image/png": "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\n"
          },
          "metadata": {}
        }
      ]
    }
  ]
}
